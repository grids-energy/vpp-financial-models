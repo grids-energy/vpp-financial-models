{
 "metadata": {
  "language_info": {
   "codemirror_mode": {
    "name": "ipython",
    "version": 3
   },
   "file_extension": ".py",
   "mimetype": "text/x-python",
   "name": "python",
   "nbconvert_exporter": "python",
   "pygments_lexer": "ipython3",
   "version": "3.8.3-final"
  },
  "orig_nbformat": 2,
  "kernelspec": {
   "name": "python3",
   "display_name": "Python 3.8.3 64-bit ('env')",
   "metadata": {
    "interpreter": {
     "hash": "4f694f3bddee2bffc3318158af7ed621a7f086d2b894e3e7e4af1bf746dad055"
    }
   }
  }
 },
 "nbformat": 4,
 "nbformat_minor": 2,
 "cells": [
  {
   "cell_type": "code",
   "execution_count": 18,
   "metadata": {},
   "outputs": [],
   "source": [
    "import pandas as pd\n",
    "import arrow\n",
    "from dateutil import tz\n",
    "import numpy as np\n",
    "import plotly.express as px\n"
   ]
  },
  {
   "cell_type": "code",
   "execution_count": 2,
   "metadata": {},
   "outputs": [],
   "source": [
    "system_power = 5 #kW\n",
    "system_capacity = 13.5 #kWh\n",
    "cycling_charge = 0.07 #$/kWh\n",
    "\n",
    "years = [2016, 2017, 2018, 2019, 2020]\n",
    "states = ['SA', 'VIC', 'NSW', 'QLD']\n",
    "results = {\n",
    "    'SA': {2016: {}, 2017: {}, 2018: {}, 2019: {}, 2020: {}},\n",
    "    'VIC': {2016: {}, 2017: {}, 2018: {}, 2019: {}, 2020: {}},\n",
    "    'NSW': {2016: {}, 2017: {}, 2018: {}, 2019: {}, 2020: {}},\n",
    "    'QLD': {2016: {}, 2017: {}, 2018: {}, 2019: {}, 2020: {}},\n",
    "    }"
   ]
  },
  {
   "cell_type": "code",
   "execution_count": 3,
   "metadata": {},
   "outputs": [],
   "source": [
    "# Step 1, general savings for spot exposed customer, taken from amberelectric.com.au front page\n",
    "\n",
    "amber_dmo_adjustment = {\n",
    "    'SA': 1850-1600,\n",
    "    'VIC': 1325-1100,\n",
    "    'NSW': 1475-1225,\n",
    "    'QLD': 1575-1400\n",
    "    }\n",
    "for k,v in amber_dmo_adjustment.items():\n",
    "    for year in years:\n",
    "        results[k][year]['dmo_adjustment'] = v\n"
   ]
  },
  {
   "cell_type": "code",
   "execution_count": 29,
   "metadata": {},
   "outputs": [
    {
     "output_type": "execute_result",
     "data": {
      "text/plain": [
       "                     Unnamed: 0      SETTLEMENTDATE REGIONID  PERIODID    RRP  \\\n",
       "SETTLEMENTDATE                                                                  \n",
       "2020-01-01 00:30:00           0 2020-01-01 00:30:00      SA1         1  68.33   \n",
       "2020-01-01 01:00:00           1 2020-01-01 01:00:00      SA1         2  68.33   \n",
       "2020-01-01 01:30:00           2 2020-01-01 01:30:00      SA1         3  68.76   \n",
       "2020-01-01 02:00:00           3 2020-01-01 02:00:00      SA1         4  68.42   \n",
       "2020-01-01 02:30:00           4 2020-01-01 02:30:00      SA1         5  68.25   \n",
       "\n",
       "                             LASTCHANGED  RAISE6SECRRP  RAISE60SECRRP  \\\n",
       "SETTLEMENTDATE                                                          \n",
       "2020-01-01 00:30:00  2020/01/01 00:25:03          1.75           2.47   \n",
       "2020-01-01 01:00:00  2020/01/01 00:55:03          1.85           2.80   \n",
       "2020-01-01 01:30:00  2020/01/01 01:25:03          1.94           2.80   \n",
       "2020-01-01 02:00:00  2020/01/01 01:55:03          1.82           2.80   \n",
       "2020-01-01 02:30:00  2020/01/01 02:25:03          1.74           2.30   \n",
       "\n",
       "                     RAISE5MINRRP  LOWER6SECRRP  LOWER60SECRRP  LOWER5MINRRP  \\\n",
       "SETTLEMENTDATE                                                                 \n",
       "2020-01-01 00:30:00          0.73          0.05           0.38          0.44   \n",
       "2020-01-01 01:00:00          0.75          0.46           0.45          0.71   \n",
       "2020-01-01 01:30:00          0.73          0.47           0.45          0.98   \n",
       "2020-01-01 02:00:00          0.70          0.53           0.45          1.02   \n",
       "2020-01-01 02:30:00          0.70          0.54           0.45          1.02   \n",
       "\n",
       "                    PRICE_STATUS  \n",
       "SETTLEMENTDATE                    \n",
       "2020-01-01 00:30:00         FIRM  \n",
       "2020-01-01 01:00:00         FIRM  \n",
       "2020-01-01 01:30:00         FIRM  \n",
       "2020-01-01 02:00:00         FIRM  \n",
       "2020-01-01 02:30:00         FIRM  "
      ],
      "text/html": "<div>\n<style scoped>\n    .dataframe tbody tr th:only-of-type {\n        vertical-align: middle;\n    }\n\n    .dataframe tbody tr th {\n        vertical-align: top;\n    }\n\n    .dataframe thead th {\n        text-align: right;\n    }\n</style>\n<table border=\"1\" class=\"dataframe\">\n  <thead>\n    <tr style=\"text-align: right;\">\n      <th></th>\n      <th>Unnamed: 0</th>\n      <th>SETTLEMENTDATE</th>\n      <th>REGIONID</th>\n      <th>PERIODID</th>\n      <th>RRP</th>\n      <th>LASTCHANGED</th>\n      <th>RAISE6SECRRP</th>\n      <th>RAISE60SECRRP</th>\n      <th>RAISE5MINRRP</th>\n      <th>LOWER6SECRRP</th>\n      <th>LOWER60SECRRP</th>\n      <th>LOWER5MINRRP</th>\n      <th>PRICE_STATUS</th>\n    </tr>\n    <tr>\n      <th>SETTLEMENTDATE</th>\n      <th></th>\n      <th></th>\n      <th></th>\n      <th></th>\n      <th></th>\n      <th></th>\n      <th></th>\n      <th></th>\n      <th></th>\n      <th></th>\n      <th></th>\n      <th></th>\n      <th></th>\n    </tr>\n  </thead>\n  <tbody>\n    <tr>\n      <th>2020-01-01 00:30:00</th>\n      <td>0</td>\n      <td>2020-01-01 00:30:00</td>\n      <td>SA1</td>\n      <td>1</td>\n      <td>68.33</td>\n      <td>2020/01/01 00:25:03</td>\n      <td>1.75</td>\n      <td>2.47</td>\n      <td>0.73</td>\n      <td>0.05</td>\n      <td>0.38</td>\n      <td>0.44</td>\n      <td>FIRM</td>\n    </tr>\n    <tr>\n      <th>2020-01-01 01:00:00</th>\n      <td>1</td>\n      <td>2020-01-01 01:00:00</td>\n      <td>SA1</td>\n      <td>2</td>\n      <td>68.33</td>\n      <td>2020/01/01 00:55:03</td>\n      <td>1.85</td>\n      <td>2.80</td>\n      <td>0.75</td>\n      <td>0.46</td>\n      <td>0.45</td>\n      <td>0.71</td>\n      <td>FIRM</td>\n    </tr>\n    <tr>\n      <th>2020-01-01 01:30:00</th>\n      <td>2</td>\n      <td>2020-01-01 01:30:00</td>\n      <td>SA1</td>\n      <td>3</td>\n      <td>68.76</td>\n      <td>2020/01/01 01:25:03</td>\n      <td>1.94</td>\n      <td>2.80</td>\n      <td>0.73</td>\n      <td>0.47</td>\n      <td>0.45</td>\n      <td>0.98</td>\n      <td>FIRM</td>\n    </tr>\n    <tr>\n      <th>2020-01-01 02:00:00</th>\n      <td>3</td>\n      <td>2020-01-01 02:00:00</td>\n      <td>SA1</td>\n      <td>4</td>\n      <td>68.42</td>\n      <td>2020/01/01 01:55:03</td>\n      <td>1.82</td>\n      <td>2.80</td>\n      <td>0.70</td>\n      <td>0.53</td>\n      <td>0.45</td>\n      <td>1.02</td>\n      <td>FIRM</td>\n    </tr>\n    <tr>\n      <th>2020-01-01 02:30:00</th>\n      <td>4</td>\n      <td>2020-01-01 02:30:00</td>\n      <td>SA1</td>\n      <td>5</td>\n      <td>68.25</td>\n      <td>2020/01/01 02:25:03</td>\n      <td>1.74</td>\n      <td>2.30</td>\n      <td>0.70</td>\n      <td>0.54</td>\n      <td>0.45</td>\n      <td>1.02</td>\n      <td>FIRM</td>\n    </tr>\n  </tbody>\n</table>\n</div>"
     },
     "metadata": {},
     "execution_count": 29
    }
   ],
   "source": []
  },
  {
   "cell_type": "code",
   "execution_count": 4,
   "metadata": {
    "tags": []
   },
   "outputs": [
    {
     "output_type": "execute_result",
     "data": {
      "text/plain": [
       "{'SA': {2016: {'dmo_adjustment': 250, 'wholesale_peak': 226.65393107769418},\n",
       "  2017: {'dmo_adjustment': 250, 'wholesale_peak': 139.3492589285714},\n",
       "  2018: {'dmo_adjustment': 250, 'wholesale_peak': 155.073708234127},\n",
       "  2019: {'dmo_adjustment': 250, 'wholesale_peak': 177.43406726190474},\n",
       "  2020: {'dmo_adjustment': 250, 'wholesale_peak': 77.514905}},\n",
       " 'VIC': {2016: {'dmo_adjustment': 225, 'wholesale_peak': 30.791512500000003},\n",
       "  2017: {'dmo_adjustment': 225, 'wholesale_peak': 5.042350000000001},\n",
       "  2018: {'dmo_adjustment': 225, 'wholesale_peak': 90.48939083333333},\n",
       "  2019: {'dmo_adjustment': 225, 'wholesale_peak': 153.72292083333335},\n",
       "  2020: {'dmo_adjustment': 225, 'wholesale_peak': 94.51080416666666}},\n",
       " 'NSW': {2016: {'dmo_adjustment': 250, 'wholesale_peak': 31.3945},\n",
       "  2017: {'dmo_adjustment': 250, 'wholesale_peak': 94.2167},\n",
       "  2018: {'dmo_adjustment': 250, 'wholesale_peak': 15.279587500000002},\n",
       "  2019: {'dmo_adjustment': 250, 'wholesale_peak': 15.280225},\n",
       "  2020: {'dmo_adjustment': 250, 'wholesale_peak': 186.31643000000003}},\n",
       " 'QLD': {2016: {'dmo_adjustment': 175, 'wholesale_peak': 134.35154583333332},\n",
       "  2017: {'dmo_adjustment': 175, 'wholesale_peak': 256.94399771825397},\n",
       "  2018: {'dmo_adjustment': 175, 'wholesale_peak': 15.621037499999998},\n",
       "  2019: {'dmo_adjustment': 175, 'wholesale_peak': 7.011125},\n",
       "  2020: {'dmo_adjustment': 175, 'wholesale_peak': 29.019825}}}"
      ]
     },
     "metadata": {},
     "execution_count": 4
    }
   ],
   "source": [
    "for state in states:\n",
    "    df = pd.read_csv(\"files/{}12016-2020.csv\".format(state),parse_dates=['SETTLEMENTDATE'])\n",
    "    for year in years:\n",
    "        results[state][year]['wholesale_peak'] = 0\n",
    "    df.index = df['SETTLEMENTDATE']\n",
    "    DFList = [group[1] for group in df.groupby(df.index.date)]\n",
    "    for day in DFList:\n",
    "        day = day[day['RRP'] > 1000]\n",
    "        if len(day) > 0:\n",
    "            price = day['RRP'].mean()/1000 #  average peak price converted to $/kWh \n",
    "            duration = min(2, len(day)/2)/2 # hours of peak pricing generated against\n",
    "            profit = system_power * price * duration\n",
    "            results[state][day.index.year[0]]['wholesale_peak'] += profit\n",
    "        #print(int(day.index.year[0]))\n",
    "#DFList.head()\n",
    "results\n"
   ]
  },
  {
   "cell_type": "code",
   "execution_count": 5,
   "metadata": {
    "tags": []
   },
   "outputs": [
    {
     "output_type": "execute_result",
     "data": {
      "text/plain": [
       "{'SA': {2016: {'dmo_adjustment': 250,\n",
       "   'wholesale_peak': 226.65393107769418,\n",
       "   'precharging': {'count': 111, 'value': 134.26715250000004}},\n",
       "  2017: {'dmo_adjustment': 250,\n",
       "   'wholesale_peak': 139.3492589285714,\n",
       "   'precharging': {'count': 86, 'value': 94.1220675}},\n",
       "  2018: {'dmo_adjustment': 250,\n",
       "   'wholesale_peak': 155.073708234127,\n",
       "   'precharging': {'count': 100, 'value': 115.51234499999995}},\n",
       "  2019: {'dmo_adjustment': 250,\n",
       "   'wholesale_peak': 177.43406726190474,\n",
       "   'precharging': {'count': 103, 'value': 144.44136}},\n",
       "  2020: {'dmo_adjustment': 250,\n",
       "   'wholesale_peak': 77.514905,\n",
       "   'precharging': {'count': 79, 'value': 93.08719125}}},\n",
       " 'VIC': {2016: {'dmo_adjustment': 225,\n",
       "   'wholesale_peak': 30.791512500000003,\n",
       "   'precharging': {'count': 98, 'value': 102.220515}},\n",
       "  2017: {'dmo_adjustment': 225,\n",
       "   'wholesale_peak': 5.042350000000001,\n",
       "   'precharging': {'count': 97, 'value': 87.37621874999996}},\n",
       "  2018: {'dmo_adjustment': 225,\n",
       "   'wholesale_peak': 90.48939083333333,\n",
       "   'precharging': {'count': 133, 'value': 122.63545125000006}},\n",
       "  2019: {'dmo_adjustment': 225,\n",
       "   'wholesale_peak': 153.72292083333335,\n",
       "   'precharging': {'count': 142, 'value': 153.83455875}},\n",
       "  2020: {'dmo_adjustment': 225,\n",
       "   'wholesale_peak': 94.51080416666666,\n",
       "   'precharging': {'count': 120, 'value': 103.26879000000001}}},\n",
       " 'NSW': {2016: {'dmo_adjustment': 250,\n",
       "   'wholesale_peak': 31.3945,\n",
       "   'precharging': {'count': 62, 'value': 64.43374499999997}},\n",
       "  2017: {'dmo_adjustment': 250,\n",
       "   'wholesale_peak': 94.2167,\n",
       "   'precharging': {'count': 44, 'value': 37.5732675}},\n",
       "  2018: {'dmo_adjustment': 250,\n",
       "   'wholesale_peak': 15.279587500000002,\n",
       "   'precharging': {'count': 55, 'value': 45.423213749999995}},\n",
       "  2019: {'dmo_adjustment': 250,\n",
       "   'wholesale_peak': 15.280225,\n",
       "   'precharging': {'count': 57, 'value': 54.89056125}},\n",
       "  2020: {'dmo_adjustment': 250,\n",
       "   'wholesale_peak': 186.31643000000003,\n",
       "   'precharging': {'count': 43, 'value': 46.2367575}}},\n",
       " 'QLD': {2016: {'dmo_adjustment': 175,\n",
       "   'wholesale_peak': 134.35154583333332,\n",
       "   'precharging': {'count': 67, 'value': 69.83776124999999}},\n",
       "  2017: {'dmo_adjustment': 175,\n",
       "   'wholesale_peak': 256.94399771825397,\n",
       "   'precharging': {'count': 39, 'value': 44.722530000000006}},\n",
       "  2018: {'dmo_adjustment': 175,\n",
       "   'wholesale_peak': 15.621037499999998,\n",
       "   'precharging': {'count': 40, 'value': 33.746017499999994}},\n",
       "  2019: {'dmo_adjustment': 175,\n",
       "   'wholesale_peak': 7.011125,\n",
       "   'precharging': {'count': 35, 'value': 33.36413625}},\n",
       "  2020: {'dmo_adjustment': 175,\n",
       "   'wholesale_peak': 29.019825,\n",
       "   'precharging': {'count': 47, 'value': 60.13770749999999}}}}"
      ]
     },
     "metadata": {},
     "execution_count": 5
    }
   ],
   "source": [
    "for state in states:\n",
    "    df = pd.read_csv(\"files/{}12016-2020.csv\".format(state),parse_dates=['SETTLEMENTDATE'])\n",
    "    for year in years:\n",
    "        results[state][year]['precharging'] = {'count': 0, 'value': 0}\n",
    "    df.index = df['SETTLEMENTDATE']\n",
    "    DFList = [group[1] for group in df.groupby(df.index.date)]\n",
    "    for day in DFList:\n",
    "        daylight_hours = day.between_time('8:00', '16:00')\n",
    "        daylight_hours_cloud = daylight_hours['CLOUD'].mean()\n",
    "        if daylight_hours_cloud > 0.7:\n",
    "            day = day[day['RRP'] < 1000] # don't include offseting super peak prices, this is done in wholesale_peak\n",
    "            precharging_price = day['RRP'].nlargest(2).mean()/1000 - day['RRP'].nsmallest(2).mean()/1000\n",
    "            if precharging_price > cycling_charge:\n",
    "                results[state][day.index.year[0]]['precharging']['value'] += precharging_price * system_capacity / 2\n",
    "                results[state][day.index.year[0]]['precharging']['count'] += 1\n",
    "\n",
    "        #print(int(day.index.year[0]))\n",
    "#DFList.head()\n",
    "#results"
   ]
  },
  {
   "cell_type": "code",
   "execution_count": 19,
   "metadata": {},
   "outputs": [
    {
     "output_type": "display_data",
     "data": {
      "application/vnd.plotly.v1+json": {
       "config": {
        "plotlyServerURL": "https://plot.ly"
       },
       "data": [
        {
         "alignmentgroup": "True",
         "hovertemplate": "variable=spot_savings<br>years=%{x}<br>value=%{y}<extra></extra>",
         "legendgroup": "spot_savings",
         "marker": {
          "color": "#636efa"
         },
         "name": "spot_savings",
         "offsetgroup": "spot_savings",
         "orientation": "v",
         "showlegend": true,
         "textposition": "auto",
         "type": "bar",
         "x": [
          2016,
          2017,
          2018,
          2019,
          2020
         ],
         "xaxis": "x",
         "y": [
          250,
          250,
          250,
          250,
          250
         ],
         "yaxis": "y"
        },
        {
         "alignmentgroup": "True",
         "hovertemplate": "variable=peak_earnings<br>years=%{x}<br>value=%{y}<extra></extra>",
         "legendgroup": "peak_earnings",
         "marker": {
          "color": "#EF553B"
         },
         "name": "peak_earnings",
         "offsetgroup": "peak_earnings",
         "orientation": "v",
         "showlegend": true,
         "textposition": "auto",
         "type": "bar",
         "x": [
          2016,
          2017,
          2018,
          2019,
          2020
         ],
         "xaxis": "x",
         "y": [
          226.65393107769418,
          139.3492589285714,
          155.073708234127,
          177.43406726190474,
          77.514905
         ],
         "yaxis": "y"
        },
        {
         "alignmentgroup": "True",
         "hovertemplate": "variable=precharging<br>years=%{x}<br>value=%{y}<extra></extra>",
         "legendgroup": "precharging",
         "marker": {
          "color": "#00cc96"
         },
         "name": "precharging",
         "offsetgroup": "precharging",
         "orientation": "v",
         "showlegend": true,
         "textposition": "auto",
         "type": "bar",
         "x": [
          2016,
          2017,
          2018,
          2019,
          2020
         ],
         "xaxis": "x",
         "y": [
          134.26715250000004,
          94.1220675,
          115.51234499999995,
          144.44136,
          93.08719125
         ],
         "yaxis": "y"
        }
       ],
       "layout": {
        "barmode": "relative",
        "legend": {
         "title": {
          "text": "variable"
         },
         "tracegroupgap": 0
        },
        "template": {
         "data": {
          "bar": [
           {
            "error_x": {
             "color": "#2a3f5f"
            },
            "error_y": {
             "color": "#2a3f5f"
            },
            "marker": {
             "line": {
              "color": "#E5ECF6",
              "width": 0.5
             }
            },
            "type": "bar"
           }
          ],
          "barpolar": [
           {
            "marker": {
             "line": {
              "color": "#E5ECF6",
              "width": 0.5
             }
            },
            "type": "barpolar"
           }
          ],
          "carpet": [
           {
            "aaxis": {
             "endlinecolor": "#2a3f5f",
             "gridcolor": "white",
             "linecolor": "white",
             "minorgridcolor": "white",
             "startlinecolor": "#2a3f5f"
            },
            "baxis": {
             "endlinecolor": "#2a3f5f",
             "gridcolor": "white",
             "linecolor": "white",
             "minorgridcolor": "white",
             "startlinecolor": "#2a3f5f"
            },
            "type": "carpet"
           }
          ],
          "choropleth": [
           {
            "colorbar": {
             "outlinewidth": 0,
             "ticks": ""
            },
            "type": "choropleth"
           }
          ],
          "contour": [
           {
            "colorbar": {
             "outlinewidth": 0,
             "ticks": ""
            },
            "colorscale": [
             [
              0,
              "#0d0887"
             ],
             [
              0.1111111111111111,
              "#46039f"
             ],
             [
              0.2222222222222222,
              "#7201a8"
             ],
             [
              0.3333333333333333,
              "#9c179e"
             ],
             [
              0.4444444444444444,
              "#bd3786"
             ],
             [
              0.5555555555555556,
              "#d8576b"
             ],
             [
              0.6666666666666666,
              "#ed7953"
             ],
             [
              0.7777777777777778,
              "#fb9f3a"
             ],
             [
              0.8888888888888888,
              "#fdca26"
             ],
             [
              1,
              "#f0f921"
             ]
            ],
            "type": "contour"
           }
          ],
          "contourcarpet": [
           {
            "colorbar": {
             "outlinewidth": 0,
             "ticks": ""
            },
            "type": "contourcarpet"
           }
          ],
          "heatmap": [
           {
            "colorbar": {
             "outlinewidth": 0,
             "ticks": ""
            },
            "colorscale": [
             [
              0,
              "#0d0887"
             ],
             [
              0.1111111111111111,
              "#46039f"
             ],
             [
              0.2222222222222222,
              "#7201a8"
             ],
             [
              0.3333333333333333,
              "#9c179e"
             ],
             [
              0.4444444444444444,
              "#bd3786"
             ],
             [
              0.5555555555555556,
              "#d8576b"
             ],
             [
              0.6666666666666666,
              "#ed7953"
             ],
             [
              0.7777777777777778,
              "#fb9f3a"
             ],
             [
              0.8888888888888888,
              "#fdca26"
             ],
             [
              1,
              "#f0f921"
             ]
            ],
            "type": "heatmap"
           }
          ],
          "heatmapgl": [
           {
            "colorbar": {
             "outlinewidth": 0,
             "ticks": ""
            },
            "colorscale": [
             [
              0,
              "#0d0887"
             ],
             [
              0.1111111111111111,
              "#46039f"
             ],
             [
              0.2222222222222222,
              "#7201a8"
             ],
             [
              0.3333333333333333,
              "#9c179e"
             ],
             [
              0.4444444444444444,
              "#bd3786"
             ],
             [
              0.5555555555555556,
              "#d8576b"
             ],
             [
              0.6666666666666666,
              "#ed7953"
             ],
             [
              0.7777777777777778,
              "#fb9f3a"
             ],
             [
              0.8888888888888888,
              "#fdca26"
             ],
             [
              1,
              "#f0f921"
             ]
            ],
            "type": "heatmapgl"
           }
          ],
          "histogram": [
           {
            "marker": {
             "colorbar": {
              "outlinewidth": 0,
              "ticks": ""
             }
            },
            "type": "histogram"
           }
          ],
          "histogram2d": [
           {
            "colorbar": {
             "outlinewidth": 0,
             "ticks": ""
            },
            "colorscale": [
             [
              0,
              "#0d0887"
             ],
             [
              0.1111111111111111,
              "#46039f"
             ],
             [
              0.2222222222222222,
              "#7201a8"
             ],
             [
              0.3333333333333333,
              "#9c179e"
             ],
             [
              0.4444444444444444,
              "#bd3786"
             ],
             [
              0.5555555555555556,
              "#d8576b"
             ],
             [
              0.6666666666666666,
              "#ed7953"
             ],
             [
              0.7777777777777778,
              "#fb9f3a"
             ],
             [
              0.8888888888888888,
              "#fdca26"
             ],
             [
              1,
              "#f0f921"
             ]
            ],
            "type": "histogram2d"
           }
          ],
          "histogram2dcontour": [
           {
            "colorbar": {
             "outlinewidth": 0,
             "ticks": ""
            },
            "colorscale": [
             [
              0,
              "#0d0887"
             ],
             [
              0.1111111111111111,
              "#46039f"
             ],
             [
              0.2222222222222222,
              "#7201a8"
             ],
             [
              0.3333333333333333,
              "#9c179e"
             ],
             [
              0.4444444444444444,
              "#bd3786"
             ],
             [
              0.5555555555555556,
              "#d8576b"
             ],
             [
              0.6666666666666666,
              "#ed7953"
             ],
             [
              0.7777777777777778,
              "#fb9f3a"
             ],
             [
              0.8888888888888888,
              "#fdca26"
             ],
             [
              1,
              "#f0f921"
             ]
            ],
            "type": "histogram2dcontour"
           }
          ],
          "mesh3d": [
           {
            "colorbar": {
             "outlinewidth": 0,
             "ticks": ""
            },
            "type": "mesh3d"
           }
          ],
          "parcoords": [
           {
            "line": {
             "colorbar": {
              "outlinewidth": 0,
              "ticks": ""
             }
            },
            "type": "parcoords"
           }
          ],
          "pie": [
           {
            "automargin": true,
            "type": "pie"
           }
          ],
          "scatter": [
           {
            "marker": {
             "colorbar": {
              "outlinewidth": 0,
              "ticks": ""
             }
            },
            "type": "scatter"
           }
          ],
          "scatter3d": [
           {
            "line": {
             "colorbar": {
              "outlinewidth": 0,
              "ticks": ""
             }
            },
            "marker": {
             "colorbar": {
              "outlinewidth": 0,
              "ticks": ""
             }
            },
            "type": "scatter3d"
           }
          ],
          "scattercarpet": [
           {
            "marker": {
             "colorbar": {
              "outlinewidth": 0,
              "ticks": ""
             }
            },
            "type": "scattercarpet"
           }
          ],
          "scattergeo": [
           {
            "marker": {
             "colorbar": {
              "outlinewidth": 0,
              "ticks": ""
             }
            },
            "type": "scattergeo"
           }
          ],
          "scattergl": [
           {
            "marker": {
             "colorbar": {
              "outlinewidth": 0,
              "ticks": ""
             }
            },
            "type": "scattergl"
           }
          ],
          "scattermapbox": [
           {
            "marker": {
             "colorbar": {
              "outlinewidth": 0,
              "ticks": ""
             }
            },
            "type": "scattermapbox"
           }
          ],
          "scatterpolar": [
           {
            "marker": {
             "colorbar": {
              "outlinewidth": 0,
              "ticks": ""
             }
            },
            "type": "scatterpolar"
           }
          ],
          "scatterpolargl": [
           {
            "marker": {
             "colorbar": {
              "outlinewidth": 0,
              "ticks": ""
             }
            },
            "type": "scatterpolargl"
           }
          ],
          "scatterternary": [
           {
            "marker": {
             "colorbar": {
              "outlinewidth": 0,
              "ticks": ""
             }
            },
            "type": "scatterternary"
           }
          ],
          "surface": [
           {
            "colorbar": {
             "outlinewidth": 0,
             "ticks": ""
            },
            "colorscale": [
             [
              0,
              "#0d0887"
             ],
             [
              0.1111111111111111,
              "#46039f"
             ],
             [
              0.2222222222222222,
              "#7201a8"
             ],
             [
              0.3333333333333333,
              "#9c179e"
             ],
             [
              0.4444444444444444,
              "#bd3786"
             ],
             [
              0.5555555555555556,
              "#d8576b"
             ],
             [
              0.6666666666666666,
              "#ed7953"
             ],
             [
              0.7777777777777778,
              "#fb9f3a"
             ],
             [
              0.8888888888888888,
              "#fdca26"
             ],
             [
              1,
              "#f0f921"
             ]
            ],
            "type": "surface"
           }
          ],
          "table": [
           {
            "cells": {
             "fill": {
              "color": "#EBF0F8"
             },
             "line": {
              "color": "white"
             }
            },
            "header": {
             "fill": {
              "color": "#C8D4E3"
             },
             "line": {
              "color": "white"
             }
            },
            "type": "table"
           }
          ]
         },
         "layout": {
          "annotationdefaults": {
           "arrowcolor": "#2a3f5f",
           "arrowhead": 0,
           "arrowwidth": 1
          },
          "autotypenumbers": "strict",
          "coloraxis": {
           "colorbar": {
            "outlinewidth": 0,
            "ticks": ""
           }
          },
          "colorscale": {
           "diverging": [
            [
             0,
             "#8e0152"
            ],
            [
             0.1,
             "#c51b7d"
            ],
            [
             0.2,
             "#de77ae"
            ],
            [
             0.3,
             "#f1b6da"
            ],
            [
             0.4,
             "#fde0ef"
            ],
            [
             0.5,
             "#f7f7f7"
            ],
            [
             0.6,
             "#e6f5d0"
            ],
            [
             0.7,
             "#b8e186"
            ],
            [
             0.8,
             "#7fbc41"
            ],
            [
             0.9,
             "#4d9221"
            ],
            [
             1,
             "#276419"
            ]
           ],
           "sequential": [
            [
             0,
             "#0d0887"
            ],
            [
             0.1111111111111111,
             "#46039f"
            ],
            [
             0.2222222222222222,
             "#7201a8"
            ],
            [
             0.3333333333333333,
             "#9c179e"
            ],
            [
             0.4444444444444444,
             "#bd3786"
            ],
            [
             0.5555555555555556,
             "#d8576b"
            ],
            [
             0.6666666666666666,
             "#ed7953"
            ],
            [
             0.7777777777777778,
             "#fb9f3a"
            ],
            [
             0.8888888888888888,
             "#fdca26"
            ],
            [
             1,
             "#f0f921"
            ]
           ],
           "sequentialminus": [
            [
             0,
             "#0d0887"
            ],
            [
             0.1111111111111111,
             "#46039f"
            ],
            [
             0.2222222222222222,
             "#7201a8"
            ],
            [
             0.3333333333333333,
             "#9c179e"
            ],
            [
             0.4444444444444444,
             "#bd3786"
            ],
            [
             0.5555555555555556,
             "#d8576b"
            ],
            [
             0.6666666666666666,
             "#ed7953"
            ],
            [
             0.7777777777777778,
             "#fb9f3a"
            ],
            [
             0.8888888888888888,
             "#fdca26"
            ],
            [
             1,
             "#f0f921"
            ]
           ]
          },
          "colorway": [
           "#636efa",
           "#EF553B",
           "#00cc96",
           "#ab63fa",
           "#FFA15A",
           "#19d3f3",
           "#FF6692",
           "#B6E880",
           "#FF97FF",
           "#FECB52"
          ],
          "font": {
           "color": "#2a3f5f"
          },
          "geo": {
           "bgcolor": "white",
           "lakecolor": "white",
           "landcolor": "#E5ECF6",
           "showlakes": true,
           "showland": true,
           "subunitcolor": "white"
          },
          "hoverlabel": {
           "align": "left"
          },
          "hovermode": "closest",
          "mapbox": {
           "style": "light"
          },
          "paper_bgcolor": "white",
          "plot_bgcolor": "#E5ECF6",
          "polar": {
           "angularaxis": {
            "gridcolor": "white",
            "linecolor": "white",
            "ticks": ""
           },
           "bgcolor": "#E5ECF6",
           "radialaxis": {
            "gridcolor": "white",
            "linecolor": "white",
            "ticks": ""
           }
          },
          "scene": {
           "xaxis": {
            "backgroundcolor": "#E5ECF6",
            "gridcolor": "white",
            "gridwidth": 2,
            "linecolor": "white",
            "showbackground": true,
            "ticks": "",
            "zerolinecolor": "white"
           },
           "yaxis": {
            "backgroundcolor": "#E5ECF6",
            "gridcolor": "white",
            "gridwidth": 2,
            "linecolor": "white",
            "showbackground": true,
            "ticks": "",
            "zerolinecolor": "white"
           },
           "zaxis": {
            "backgroundcolor": "#E5ECF6",
            "gridcolor": "white",
            "gridwidth": 2,
            "linecolor": "white",
            "showbackground": true,
            "ticks": "",
            "zerolinecolor": "white"
           }
          },
          "shapedefaults": {
           "line": {
            "color": "#2a3f5f"
           }
          },
          "ternary": {
           "aaxis": {
            "gridcolor": "white",
            "linecolor": "white",
            "ticks": ""
           },
           "baxis": {
            "gridcolor": "white",
            "linecolor": "white",
            "ticks": ""
           },
           "bgcolor": "#E5ECF6",
           "caxis": {
            "gridcolor": "white",
            "linecolor": "white",
            "ticks": ""
           }
          },
          "title": {
           "x": 0.05
          },
          "xaxis": {
           "automargin": true,
           "gridcolor": "white",
           "linecolor": "white",
           "ticks": "",
           "title": {
            "standoff": 15
           },
           "zerolinecolor": "white",
           "zerolinewidth": 2
          },
          "yaxis": {
           "automargin": true,
           "gridcolor": "white",
           "linecolor": "white",
           "ticks": "",
           "title": {
            "standoff": 15
           },
           "zerolinecolor": "white",
           "zerolinewidth": 2
          }
         }
        },
        "title": {
         "text": "SA Savings"
        },
        "xaxis": {
         "anchor": "y",
         "domain": [
          0,
          1
         ],
         "title": {
          "text": "years"
         }
        },
        "yaxis": {
         "anchor": "x",
         "domain": [
          0,
          1
         ],
         "title": {
          "text": "value"
         }
        }
       }
      }
     },
     "metadata": {}
    },
    {
     "output_type": "error",
     "ename": "AttributeError",
     "evalue": "'Figure' object has no attribute 'write'",
     "traceback": [
      "\u001b[0;31m---------------------------------------------------------------------------\u001b[0m",
      "\u001b[0;31mAttributeError\u001b[0m                            Traceback (most recent call last)",
      "\u001b[0;32m<ipython-input-19-d0608de3b786>\u001b[0m in \u001b[0;36m<module>\u001b[0;34m\u001b[0m\n\u001b[1;32m     12\u001b[0m     \u001b[0mfig\u001b[0m \u001b[0;34m=\u001b[0m \u001b[0mpx\u001b[0m\u001b[0;34m.\u001b[0m\u001b[0mbar\u001b[0m\u001b[0;34m(\u001b[0m\u001b[0mwide_df\u001b[0m\u001b[0;34m,\u001b[0m \u001b[0mx\u001b[0m\u001b[0;34m=\u001b[0m\u001b[0;34m\"years\"\u001b[0m\u001b[0;34m,\u001b[0m \u001b[0my\u001b[0m\u001b[0;34m=\u001b[0m\u001b[0;34m[\u001b[0m\u001b[0;34m\"spot_savings\"\u001b[0m\u001b[0;34m,\u001b[0m \u001b[0;34m\"peak_earnings\"\u001b[0m\u001b[0;34m,\u001b[0m \u001b[0;34m\"precharging\"\u001b[0m\u001b[0;34m]\u001b[0m\u001b[0;34m,\u001b[0m \u001b[0mtitle\u001b[0m\u001b[0;34m=\u001b[0m\u001b[0;34m\"{} Savings\"\u001b[0m\u001b[0;34m.\u001b[0m\u001b[0mformat\u001b[0m\u001b[0;34m(\u001b[0m\u001b[0mstate\u001b[0m\u001b[0;34m)\u001b[0m\u001b[0;34m)\u001b[0m\u001b[0;34m\u001b[0m\u001b[0;34m\u001b[0m\u001b[0m\n\u001b[1;32m     13\u001b[0m     \u001b[0mfig\u001b[0m\u001b[0;34m.\u001b[0m\u001b[0mshow\u001b[0m\u001b[0;34m(\u001b[0m\u001b[0;34m)\u001b[0m\u001b[0;34m\u001b[0m\u001b[0;34m\u001b[0m\u001b[0m\n\u001b[0;32m---> 14\u001b[0;31m     \u001b[0mfig\u001b[0m\u001b[0;34m.\u001b[0m\u001b[0mwrite\u001b[0m\u001b[0;34m(\u001b[0m\u001b[0;34m\"images/{}-savings.png\"\u001b[0m\u001b[0;34m.\u001b[0m\u001b[0mformat\u001b[0m\u001b[0;34m(\u001b[0m\u001b[0mstate\u001b[0m\u001b[0;34m)\u001b[0m\u001b[0;34m)\u001b[0m\u001b[0;34m\u001b[0m\u001b[0;34m\u001b[0m\u001b[0m\n\u001b[0m\u001b[1;32m     15\u001b[0m \u001b[0;31m#dfsa.head()\u001b[0m\u001b[0;34m\u001b[0m\u001b[0;34m\u001b[0m\u001b[0;34m\u001b[0m\u001b[0m\n",
      "\u001b[0;31mAttributeError\u001b[0m: 'Figure' object has no attribute 'write'"
     ]
    }
   ],
   "source": [
    "for state in states:\n",
    "    sa1 = {'years': [], 'spot_savings': [], 'peak_earnings': [], 'precharging': []}\n",
    "    for year in years:\n",
    "        sa1['years'].append(year)\n",
    "        sa1['spot_savings'].append(results[state][year]['dmo_adjustment'])\n",
    "        sa1['peak_earnings'].append(results[state][year]['wholesale_peak'])\n",
    "        sa1['precharging'].append(results[state][year]['precharging']['value'])\n",
    "    dfsa = pd.DataFrame(data=sa1)\n",
    "    dfsa.head()\n",
    "    wide_df = dfsa\n",
    "\n",
    "    fig = px.bar(wide_df, x=\"years\", y=[\"spot_savings\", \"peak_earnings\", \"precharging\"], title=\"{} Savings\".format(state))\n",
    "    fig.show()\n",
    "    fig.write(\"images/{}-savings.png\".format(state))"
   ]
  },
  {
   "cell_type": "code",
   "execution_count": null,
   "metadata": {},
   "outputs": [],
   "source": []
  }
 ]
}